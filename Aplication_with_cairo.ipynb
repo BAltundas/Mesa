{
  "nbformat": 4,
  "nbformat_minor": 0,
  "metadata": {
    "colab": {
      "name": "Untitled2.ipynb",
      "provenance": [],
      "authorship_tag": "ABX9TyOpw84CUDAg6cg9ZZ2rmMjW",
      "include_colab_link": true
    },
    "kernelspec": {
      "name": "python3",
      "display_name": "Python 3"
    }
  },
  "cells": [
    {
      "cell_type": "markdown",
      "metadata": {
        "id": "view-in-github",
        "colab_type": "text"
      },
      "source": [
        "<a href=\"https://colab.research.google.com/github/BAltundas/Mesa/blob/master/Aplication_with_cairo.ipynb\" target=\"_parent\"><img src=\"https://colab.research.google.com/assets/colab-badge.svg\" alt=\"Open In Colab\"/></a>"
      ]
    },
    {
      "cell_type": "code",
      "metadata": {
        "id": "Hpf2eiPOHtWk"
      },
      "source": [
        "import cairo\n",
        "from contextlib import contextmanager\n",
        "\n",
        "@contextmanager\n",
        "def saved(cr):\n",
        "    cr.save()\n",
        "    try:\n",
        "        yield cr\n",
        "    finally:\n",
        "        cr.restore()\n",
        "\n",
        "def Tree(angle):\n",
        "    cr.move_to(0, 0)\n",
        "    cr.translate(0, -65)\n",
        "    cr.line_to(0, 0)\n",
        "    cr.stroke()\n",
        "    cr.scale(0.72, 0.72)\n",
        "    if angle > 0.12:\n",
        "        for a in [-angle, angle]:\n",
        "            with saved(cr):\n",
        "                cr.rotate(a)\n",
        "                Tree(angle * 0.75)\n",
        "\n",
        "surf = cairo.ImageSurface(cairo.FORMAT_ARGB32, 280, 204)\n",
        "cr = cairo.Context(surf)\n",
        "cr.translate(140, 203)\n",
        "cr.set_line_width(5)\n",
        "Tree(0.75)\n",
        "surf.write_to_png('fractal-tree.png')"
      ],
      "execution_count": null,
      "outputs": []
    }
  ]
}